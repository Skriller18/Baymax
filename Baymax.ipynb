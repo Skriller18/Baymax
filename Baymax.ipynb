{
 "cells": [
  {
   "cell_type": "code",
   "execution_count": 84,
   "metadata": {},
   "outputs": [],
   "source": [
    "import whisper\n",
    "from transformers import pipeline\n",
    "from gtts import gTTS\n",
    "import os\n",
    "import numpy as np\n",
    "import pyaudio"
   ]
  },
  {
   "cell_type": "code",
   "execution_count": 85,
   "metadata": {},
   "outputs": [
    {
     "name": "stderr",
     "output_type": "stream",
     "text": [
      "c:\\Users\\user1\\.conda\\envs\\env\\lib\\site-packages\\whisper\\__init__.py:146: FutureWarning: You are using `torch.load` with `weights_only=False` (the current default value), which uses the default pickle module implicitly. It is possible to construct malicious pickle data which will execute arbitrary code during unpickling (See https://github.com/pytorch/pytorch/blob/main/SECURITY.md#untrusted-models for more details). In a future release, the default value for `weights_only` will be flipped to `True`. This limits the functions that could be executed during unpickling. Arbitrary objects will no longer be allowed to be loaded via this mode unless they are explicitly allowlisted by the user via `torch.serialization.add_safe_globals`. We recommend you start setting `weights_only=True` for any use case where you don't have full control of the loaded file. Please open an issue on GitHub for any issues related to this experimental feature.\n",
      "  checkpoint = torch.load(fp, map_location=device)\n"
     ]
    }
   ],
   "source": [
    "stt_model = whisper.load_model(\"small\")"
   ]
  },
  {
   "cell_type": "code",
   "execution_count": 86,
   "metadata": {},
   "outputs": [
    {
     "name": "stderr",
     "output_type": "stream",
     "text": [
      "c:\\Users\\user1\\.conda\\envs\\env\\lib\\site-packages\\huggingface_hub\\file_download.py:1132: FutureWarning: `resume_download` is deprecated and will be removed in version 1.0.0. Downloads always resume when possible. If you want to force a new download, use `force_download=True`.\n",
      "  warnings.warn(\n"
     ]
    }
   ],
   "source": [
    "nlp = pipeline(\"zero-shot-classification\", model=\"facebook/bart-large-mnli\")"
   ]
  },
  {
   "cell_type": "code",
   "execution_count": 87,
   "metadata": {},
   "outputs": [],
   "source": [
    "def load_instructions(file_path):\n",
    "    instructions = {}\n",
    "    with open(file_path, 'r') as file:\n",
    "        for line in file:\n",
    "            if ':' in line:\n",
    "                key, value = line.strip().split(\":\", 1)\n",
    "                instructions[key.strip()] = value.strip()\n",
    "    return instructions"
   ]
  },
  {
   "cell_type": "code",
   "execution_count": 88,
   "metadata": {},
   "outputs": [],
   "source": [
    "def process_input(user_input, instructions):\n",
    "    labels = list(instructions.keys())\n",
    "    result = nlp(user_input, labels)\n",
    "    best_label = result['labels'][0]\n",
    "    return instructions.get(best_label, \"I'm sorry, I didn't understand that.\")"
   ]
  },
  {
   "cell_type": "code",
   "execution_count": 89,
   "metadata": {},
   "outputs": [],
   "source": [
    "def text_to_speech(text, output_file):\n",
    "    tts = gTTS(text=text, lang='en')\n",
    "    tts.save(output_file)"
   ]
  },
  {
   "cell_type": "code",
   "execution_count": 99,
   "metadata": {},
   "outputs": [],
   "source": [
    "import wave\n",
    "def record_audio(filename, duration=10, fs=44100):\n",
    "    p = pyaudio.PyAudio()\n",
    "    stream = p.open(format=pyaudio.paInt16, channels=1, rate=fs, input=True, frames_per_buffer=1024)\n",
    "    frames = []\n",
    "\n",
    "    print(\"Recording...\")\n",
    "    for _ in range(0, int(fs / 1024 * duration)):\n",
    "        data = stream.read(1024)\n",
    "        frames.append(data)\n",
    "    print(\"Recording finished.\")\n",
    "\n",
    "    stream.stop_stream()\n",
    "    stream.close()\n",
    "    p.terminate()\n",
    "\n",
    "    wf = wave.open(filename, 'wb')\n",
    "    wf.setnchannels(1)\n",
    "    wf.setsampwidth(p.get_sample_size(pyaudio.paInt16))\n",
    "    wf.setframerate(fs)\n",
    "    wf.writeframes(b''.join(frames))\n",
    "    wf.close()"
   ]
  },
  {
   "cell_type": "code",
   "execution_count": 115,
   "metadata": {},
   "outputs": [],
   "source": [
    "instructions = load_instructions('instructions.txt')"
   ]
  },
  {
   "cell_type": "code",
   "execution_count": 121,
   "metadata": {},
   "outputs": [
    {
     "name": "stdout",
     "output_type": "stream",
     "text": [
      "Recording...\n",
      "Recording finished.\n"
     ]
    }
   ],
   "source": [
    "record_audio(\"recording.wav\")"
   ]
  },
  {
   "cell_type": "code",
   "execution_count": 122,
   "metadata": {},
   "outputs": [],
   "source": [
    "result = stt_model.transcribe(\"recording.wav\")\n",
    "user_input_text = result['text']"
   ]
  },
  {
   "cell_type": "code",
   "execution_count": 123,
   "metadata": {},
   "outputs": [
    {
     "name": "stdout",
     "output_type": "stream",
     "text": [
      " My appointment is next week. Can you confirm my appointment? Or please tell me when I should come to the hospital again.\n"
     ]
    }
   ],
   "source": [
    "print(user_input_text)"
   ]
  },
  {
   "cell_type": "code",
   "execution_count": 124,
   "metadata": {},
   "outputs": [],
   "source": [
    "response_text = process_input(user_input_text, instructions)"
   ]
  },
  {
   "cell_type": "code",
   "execution_count": 125,
   "metadata": {},
   "outputs": [],
   "source": [
    "output_audio_file = \"response_output.mp3\"\n",
    "text_to_speech(response_text, output_audio_file)"
   ]
  },
  {
   "cell_type": "code",
   "execution_count": 126,
   "metadata": {},
   "outputs": [
    {
     "data": {
      "text/plain": [
       "1"
      ]
     },
     "execution_count": 126,
     "metadata": {},
     "output_type": "execute_result"
    }
   ],
   "source": [
    "os.system(f\"mpg321 {output_audio_file}\")"
   ]
  },
  {
   "cell_type": "code",
   "execution_count": 5,
   "metadata": {},
   "outputs": [
    {
     "ename": "ImportError",
     "evalue": "cannot import name 'L3RawSocket' from 'scapy.all' (c:\\Users\\user1\\.conda\\envs\\env\\lib\\site-packages\\scapy\\all.py)",
     "output_type": "error",
     "traceback": [
      "\u001b[1;31m---------------------------------------------------------------------------\u001b[0m",
      "\u001b[1;31mImportError\u001b[0m                               Traceback (most recent call last)",
      "Cell \u001b[1;32mIn[5], line 1\u001b[0m\n\u001b[1;32m----> 1\u001b[0m \u001b[38;5;28;01mfrom\u001b[39;00m \u001b[38;5;21;01mscapy\u001b[39;00m\u001b[38;5;21;01m.\u001b[39;00m\u001b[38;5;21;01mall\u001b[39;00m \u001b[38;5;28;01mimport\u001b[39;00m ARP, Ether, sr1, conf, L3RawSocket\n\u001b[0;32m      2\u001b[0m \u001b[38;5;28;01mimport\u001b[39;00m \u001b[38;5;21;01msocket\u001b[39;00m\n\u001b[0;32m      4\u001b[0m \u001b[38;5;28;01mdef\u001b[39;00m \u001b[38;5;21mget_device_name\u001b[39m(ip):\n",
      "\u001b[1;31mImportError\u001b[0m: cannot import name 'L3RawSocket' from 'scapy.all' (c:\\Users\\user1\\.conda\\envs\\env\\lib\\site-packages\\scapy\\all.py)"
     ]
    }
   ],
   "source": []
  },
  {
   "cell_type": "code",
   "execution_count": 7,
   "metadata": {},
   "outputs": [
    {
     "ename": "RuntimeError",
     "evalue": "Sniffing and sending packets is not available at layer 2: winpcap is not installed. You may use conf.L3socket orconf.L3socket6 to access layer 3",
     "output_type": "error",
     "traceback": [
      "\u001b[1;31m---------------------------------------------------------------------------\u001b[0m",
      "\u001b[1;31mRuntimeError\u001b[0m                              Traceback (most recent call last)",
      "Cell \u001b[1;32mIn[7], line 37\u001b[0m\n\u001b[0;32m     34\u001b[0m network \u001b[38;5;241m=\u001b[39m \u001b[38;5;124m\"\u001b[39m\u001b[38;5;124m192.168.1.0/24\u001b[39m\u001b[38;5;124m\"\u001b[39m\n\u001b[0;32m     36\u001b[0m \u001b[38;5;66;03m# Perform the scan\u001b[39;00m\n\u001b[1;32m---> 37\u001b[0m devices \u001b[38;5;241m=\u001b[39m \u001b[43mscan_network\u001b[49m\u001b[43m(\u001b[49m\u001b[43mnetwork\u001b[49m\u001b[43m)\u001b[49m\n\u001b[0;32m     39\u001b[0m \u001b[38;5;66;03m# Print the list of devices\u001b[39;00m\n\u001b[0;32m     40\u001b[0m \u001b[38;5;28mprint\u001b[39m(\u001b[38;5;124m\"\u001b[39m\u001b[38;5;124mAvailable devices in the network:\u001b[39m\u001b[38;5;124m\"\u001b[39m)\n",
      "Cell \u001b[1;32mIn[7], line 15\u001b[0m, in \u001b[0;36mscan_network\u001b[1;34m(network)\u001b[0m\n\u001b[0;32m     12\u001b[0m arp_request_broadcast \u001b[38;5;241m=\u001b[39m broadcast \u001b[38;5;241m/\u001b[39m arp_request\n\u001b[0;32m     14\u001b[0m \u001b[38;5;66;03m# Send the packet and receive responses\u001b[39;00m\n\u001b[1;32m---> 15\u001b[0m answered_list \u001b[38;5;241m=\u001b[39m \u001b[43msrp\u001b[49m\u001b[43m(\u001b[49m\u001b[43marp_request_broadcast\u001b[49m\u001b[43m,\u001b[49m\u001b[43m \u001b[49m\u001b[43mtimeout\u001b[49m\u001b[38;5;241;43m=\u001b[39;49m\u001b[38;5;241;43m2\u001b[39;49m\u001b[43m,\u001b[49m\u001b[43m \u001b[49m\u001b[43mverbose\u001b[49m\u001b[38;5;241;43m=\u001b[39;49m\u001b[38;5;28;43;01mFalse\u001b[39;49;00m\u001b[43m)\u001b[49m[\u001b[38;5;241m0\u001b[39m]\n\u001b[0;32m     17\u001b[0m devices \u001b[38;5;241m=\u001b[39m []\n\u001b[0;32m     19\u001b[0m \u001b[38;5;28;01mfor\u001b[39;00m sent, received \u001b[38;5;129;01min\u001b[39;00m answered_list:\n",
      "File \u001b[1;32mc:\\Users\\user1\\.conda\\envs\\env\\lib\\site-packages\\scapy\\sendrecv.py:687\u001b[0m, in \u001b[0;36msrp\u001b[1;34m(x, promisc, iface, iface_hint, filter, nofilter, type, *args, **kargs)\u001b[0m\n\u001b[0;32m    685\u001b[0m     iface \u001b[38;5;241m=\u001b[39m conf\u001b[38;5;241m.\u001b[39mroute\u001b[38;5;241m.\u001b[39mroute(iface_hint)[\u001b[38;5;241m0\u001b[39m]\n\u001b[0;32m    686\u001b[0m iface \u001b[38;5;241m=\u001b[39m resolve_iface(iface \u001b[38;5;129;01mor\u001b[39;00m conf\u001b[38;5;241m.\u001b[39miface)\n\u001b[1;32m--> 687\u001b[0m s \u001b[38;5;241m=\u001b[39m \u001b[43miface\u001b[49m\u001b[38;5;241;43m.\u001b[39;49m\u001b[43ml2socket\u001b[49m\u001b[43m(\u001b[49m\u001b[43m)\u001b[49m\u001b[43m(\u001b[49m\u001b[43mpromisc\u001b[49m\u001b[38;5;241;43m=\u001b[39;49m\u001b[43mpromisc\u001b[49m\u001b[43m,\u001b[49m\u001b[43m \u001b[49m\u001b[43miface\u001b[49m\u001b[38;5;241;43m=\u001b[39;49m\u001b[43miface\u001b[49m\u001b[43m,\u001b[49m\n\u001b[0;32m    688\u001b[0m \u001b[43m                     \u001b[49m\u001b[38;5;28;43mfilter\u001b[39;49m\u001b[38;5;241;43m=\u001b[39;49m\u001b[38;5;28;43mfilter\u001b[39;49m\u001b[43m,\u001b[49m\u001b[43m \u001b[49m\u001b[43mnofilter\u001b[49m\u001b[38;5;241;43m=\u001b[39;49m\u001b[43mnofilter\u001b[49m\u001b[43m,\u001b[49m\u001b[43m \u001b[49m\u001b[38;5;28;43mtype\u001b[39;49m\u001b[38;5;241;43m=\u001b[39;49m\u001b[38;5;28;43mtype\u001b[39;49m\u001b[43m)\u001b[49m\n\u001b[0;32m    689\u001b[0m result \u001b[38;5;241m=\u001b[39m sndrcv(s, x, \u001b[38;5;241m*\u001b[39margs, \u001b[38;5;241m*\u001b[39m\u001b[38;5;241m*\u001b[39mkargs)\n\u001b[0;32m    690\u001b[0m s\u001b[38;5;241m.\u001b[39mclose()\n",
      "File \u001b[1;32mc:\\Users\\user1\\.conda\\envs\\env\\lib\\site-packages\\scapy\\arch\\windows\\__init__.py:1019\u001b[0m, in \u001b[0;36m_NotAvailableSocket.__init__\u001b[1;34m(self, *args, **kargs)\u001b[0m\n\u001b[0;32m   1017\u001b[0m \u001b[38;5;28;01mdef\u001b[39;00m \u001b[38;5;21m__init__\u001b[39m(\u001b[38;5;28mself\u001b[39m, \u001b[38;5;241m*\u001b[39margs, \u001b[38;5;241m*\u001b[39m\u001b[38;5;241m*\u001b[39mkargs):\n\u001b[0;32m   1018\u001b[0m     \u001b[38;5;66;03m# type: (*Any, **Any) -> None\u001b[39;00m\n\u001b[1;32m-> 1019\u001b[0m     \u001b[38;5;28;01mraise\u001b[39;00m \u001b[38;5;167;01mRuntimeError\u001b[39;00m(\n\u001b[0;32m   1020\u001b[0m         \u001b[38;5;124m\"\u001b[39m\u001b[38;5;124mSniffing and sending packets is not available at layer 2: \u001b[39m\u001b[38;5;124m\"\u001b[39m\n\u001b[0;32m   1021\u001b[0m         \u001b[38;5;124m\"\u001b[39m\u001b[38;5;124mwinpcap is not installed. You may use conf.L3socket or\u001b[39m\u001b[38;5;124m\"\u001b[39m\n\u001b[0;32m   1022\u001b[0m         \u001b[38;5;124m\"\u001b[39m\u001b[38;5;124mconf.L3socket6 to access layer 3\u001b[39m\u001b[38;5;124m\"\u001b[39m\n\u001b[0;32m   1023\u001b[0m     )\n",
      "\u001b[1;31mRuntimeError\u001b[0m: Sniffing and sending packets is not available at layer 2: winpcap is not installed. You may use conf.L3socket orconf.L3socket6 to access layer 3"
     ]
    }
   ],
   "source": [
    "from scapy.all import ARP, Ether, srp\n",
    "\n",
    "def scan_network(network):\n",
    "    \"\"\"\n",
    "    Scan the network to find all devices along with their IP addresses.\n",
    "    \"\"\"\n",
    "    # Create ARP request packet\n",
    "    arp_request = ARP(pdst=network)\n",
    "    \n",
    "    # Create Ethernet frame to broadcast the ARP request\n",
    "    broadcast = Ether(dst=\"ff:ff:ff:ff:ff:ff\")\n",
    "    arp_request_broadcast = broadcast / arp_request\n",
    "    \n",
    "    # Send the packet and receive responses\n",
    "    answered_list = srp(arp_request_broadcast, timeout=2, verbose=False)[0]\n",
    "    \n",
    "    devices = []\n",
    "\n",
    "    for sent, received in answered_list:\n",
    "        device_info = {\n",
    "            \"ip\": received.psrc,\n",
    "            \"mac\": received.hwsrc\n",
    "        }\n",
    "        try:\n",
    "            device_info[\"device_name\"] = socket.gethostbyaddr(received.psrc)[0]\n",
    "        except socket.herror:\n",
    "            device_info[\"device_name\"] = \"Unknown\"\n",
    "        \n",
    "        devices.append(device_info)\n",
    "\n",
    "    return devices\n",
    "\n",
    "# Define the network range to scan\n",
    "network = \"192.168.1.0/24\"\n",
    "\n",
    "# Perform the scan\n",
    "devices = scan_network(network)\n",
    "\n",
    "# Print the list of devices\n",
    "print(\"Available devices in the network:\")\n",
    "for device in devices:\n",
    "    print(f\"IP: {device['ip']}, MAC: {device['mac']}, Device Name: {device['device_name']}\")\n"
   ]
  },
  {
   "cell_type": "code",
   "execution_count": null,
   "metadata": {},
   "outputs": [],
   "source": []
  }
 ],
 "metadata": {
  "kernelspec": {
   "display_name": "env",
   "language": "python",
   "name": "python3"
  },
  "language_info": {
   "codemirror_mode": {
    "name": "ipython",
    "version": 3
   },
   "file_extension": ".py",
   "mimetype": "text/x-python",
   "name": "python",
   "nbconvert_exporter": "python",
   "pygments_lexer": "ipython3",
   "version": "3.10.14"
  }
 },
 "nbformat": 4,
 "nbformat_minor": 2
}
